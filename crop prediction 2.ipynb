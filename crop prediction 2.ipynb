{
 "cells": [
  {
   "cell_type": "code",
   "execution_count": 1,
   "id": "f793c24c-ee24-46b9-b25f-e6bc14b60580",
   "metadata": {},
   "outputs": [],
   "source": [
    "import numpy as np\n",
    "import seaborn as sns\n",
    "import matplotlib.pyplot as plt"
   ]
  },
  {
   "cell_type": "code",
   "execution_count": 2,
   "id": "45f7f6e6-6226-427a-b72f-c01babb6ad0f",
   "metadata": {},
   "outputs": [
    {
     "data": {
      "text/html": [
       "<div>\n",
       "<style scoped>\n",
       "    .dataframe tbody tr th:only-of-type {\n",
       "        vertical-align: middle;\n",
       "    }\n",
       "\n",
       "    .dataframe tbody tr th {\n",
       "        vertical-align: top;\n",
       "    }\n",
       "\n",
       "    .dataframe thead th {\n",
       "        text-align: right;\n",
       "    }\n",
       "</style>\n",
       "<table border=\"1\" class=\"dataframe\">\n",
       "  <thead>\n",
       "    <tr style=\"text-align: right;\">\n",
       "      <th></th>\n",
       "      <th>State</th>\n",
       "      <th>District</th>\n",
       "      <th>Market</th>\n",
       "      <th>Commodity</th>\n",
       "      <th>Variety</th>\n",
       "      <th>Grade</th>\n",
       "      <th>Arrival_Date</th>\n",
       "      <th>Min_Price</th>\n",
       "      <th>Max_Price</th>\n",
       "      <th>Modal_Price</th>\n",
       "      <th>Commodity_Code</th>\n",
       "    </tr>\n",
       "  </thead>\n",
       "  <tbody>\n",
       "    <tr>\n",
       "      <th>0</th>\n",
       "      <td>Karnataka</td>\n",
       "      <td>Bangalore</td>\n",
       "      <td>Bangalore</td>\n",
       "      <td>Green Peas</td>\n",
       "      <td>Green Peas</td>\n",
       "      <td>FAQ</td>\n",
       "      <td>2006-01-21</td>\n",
       "      <td>1500</td>\n",
       "      <td>1600</td>\n",
       "      <td>1550</td>\n",
       "      <td>50</td>\n",
       "    </tr>\n",
       "    <tr>\n",
       "      <th>1</th>\n",
       "      <td>Karnataka</td>\n",
       "      <td>Bangalore</td>\n",
       "      <td>Bangalore</td>\n",
       "      <td>Green Peas</td>\n",
       "      <td>Green Peas</td>\n",
       "      <td>FAQ</td>\n",
       "      <td>2006-01-25</td>\n",
       "      <td>1500</td>\n",
       "      <td>1600</td>\n",
       "      <td>1550</td>\n",
       "      <td>50</td>\n",
       "    </tr>\n",
       "    <tr>\n",
       "      <th>2</th>\n",
       "      <td>Karnataka</td>\n",
       "      <td>Bangalore</td>\n",
       "      <td>Bangalore</td>\n",
       "      <td>Green Peas</td>\n",
       "      <td>Green Peas</td>\n",
       "      <td>FAQ</td>\n",
       "      <td>2006-02-13</td>\n",
       "      <td>1500</td>\n",
       "      <td>1600</td>\n",
       "      <td>1550</td>\n",
       "      <td>50</td>\n",
       "    </tr>\n",
       "    <tr>\n",
       "      <th>3</th>\n",
       "      <td>Karnataka</td>\n",
       "      <td>Bangalore</td>\n",
       "      <td>Bangalore</td>\n",
       "      <td>Green Peas</td>\n",
       "      <td>Green Peas</td>\n",
       "      <td>FAQ</td>\n",
       "      <td>2006-02-15</td>\n",
       "      <td>1500</td>\n",
       "      <td>1600</td>\n",
       "      <td>1550</td>\n",
       "      <td>50</td>\n",
       "    </tr>\n",
       "    <tr>\n",
       "      <th>4</th>\n",
       "      <td>Karnataka</td>\n",
       "      <td>Bangalore</td>\n",
       "      <td>Bangalore</td>\n",
       "      <td>Green Peas</td>\n",
       "      <td>Green Peas</td>\n",
       "      <td>FAQ</td>\n",
       "      <td>2006-02-21</td>\n",
       "      <td>1500</td>\n",
       "      <td>1600</td>\n",
       "      <td>1550</td>\n",
       "      <td>50</td>\n",
       "    </tr>\n",
       "  </tbody>\n",
       "</table>\n",
       "</div>"
      ],
      "text/plain": [
       "       State   District     Market   Commodity     Variety Grade Arrival_Date  \\\n",
       "0  Karnataka  Bangalore  Bangalore  Green Peas  Green Peas   FAQ   2006-01-21   \n",
       "1  Karnataka  Bangalore  Bangalore  Green Peas  Green Peas   FAQ   2006-01-25   \n",
       "2  Karnataka  Bangalore  Bangalore  Green Peas  Green Peas   FAQ   2006-02-13   \n",
       "3  Karnataka  Bangalore  Bangalore  Green Peas  Green Peas   FAQ   2006-02-15   \n",
       "4  Karnataka  Bangalore  Bangalore  Green Peas  Green Peas   FAQ   2006-02-21   \n",
       "\n",
       "   Min_Price  Max_Price  Modal_Price  Commodity_Code  \n",
       "0       1500       1600         1550              50  \n",
       "1       1500       1600         1550              50  \n",
       "2       1500       1600         1550              50  \n",
       "3       1500       1600         1550              50  \n",
       "4       1500       1600         1550              50  "
      ]
     },
     "execution_count": 2,
     "metadata": {},
     "output_type": "execute_result"
    }
   ],
   "source": [
    " import pandas as pd\n",
    "df=pd.read_csv(\"C:/Users/steav/OneDrive/Desktop/project folder/Daily Market Prices Commodity.csv\")\n",
    "df.head()"
   ]
  },
  {
   "cell_type": "code",
   "execution_count": 3,
   "id": "df30e125-1272-4859-91d7-1406de27d278",
   "metadata": {},
   "outputs": [
    {
     "data": {
      "text/plain": [
       "State             0\n",
       "District          0\n",
       "Market            0\n",
       "Commodity         0\n",
       "Variety           0\n",
       "Grade             0\n",
       "Arrival_Date      0\n",
       "Min_Price         0\n",
       "Max_Price         0\n",
       "Modal_Price       0\n",
       "Commodity_Code    0\n",
       "dtype: int64"
      ]
     },
     "execution_count": 3,
     "metadata": {},
     "output_type": "execute_result"
    }
   ],
   "source": [
    "df.isnull().sum()"
   ]
  },
  {
   "cell_type": "code",
   "execution_count": null,
   "id": "9b58fc5e-600e-4982-8955-c814e80b94ae",
   "metadata": {},
   "outputs": [],
   "source": []
  },
  {
   "cell_type": "code",
   "execution_count": 4,
   "id": "c2dfb5af-eb86-4f8c-87c5-2ad12dec5834",
   "metadata": {},
   "outputs": [],
   "source": [
    "df2=df.copy()"
   ]
  },
  {
   "cell_type": "code",
   "execution_count": 5,
   "id": "58cc8fb0-816b-4ae0-9928-e41a915beda9",
   "metadata": {},
   "outputs": [],
   "source": [
    "df2=df2.dropna()"
   ]
  },
  {
   "cell_type": "code",
   "execution_count": 6,
   "id": "90221b6f-cb19-435f-9770-26395ff57147",
   "metadata": {},
   "outputs": [
    {
     "name": "stdout",
     "output_type": "stream",
     "text": [
      "2006-01-25\n",
      "['2006', '01', '25']\n",
      "01\n"
     ]
    }
   ],
   "source": [
    "str=df2[\"Arrival_Date\"][1]\n",
    "str2=str.split('-')\n",
    "print(str)\n",
    "print(str2)\n",
    "print(str2[1])\n",
    "\n"
   ]
  },
  {
   "cell_type": "code",
   "execution_count": 7,
   "id": "bc25397d-d761-4224-82a2-6ba4267abd50",
   "metadata": {},
   "outputs": [
    {
     "name": "stdout",
     "output_type": "stream",
     "text": [
      "{1: 'January', 2: 'February', 3: 'March', 4: 'April', 5: 'May', 6: 'June', 7: 'July', 8: 'August', 9: 'September', 10: 'October', 11: 'November', 12: 'December'}\n"
     ]
    }
   ],
   "source": [
    "Dict = {1:\"January\",2:\"February\",3:\"March\",4:\"April\",5:\"May\",6:\"June\",7:\"July\",8:\"August\",9:\"September\",10:\"October\",11:\"November\",12:\"December\"}\n",
    "print(Dict)"
   ]
  },
  {
   "cell_type": "code",
   "execution_count": 8,
   "id": "010b0948-6abb-4429-8314-eaaadec437a4",
   "metadata": {},
   "outputs": [],
   "source": [
    "month_column=[]"
   ]
  },
  {
   "cell_type": "code",
   "execution_count": 9,
   "id": "e3d98d39-3d24-468d-a122-4858db36c8d7",
   "metadata": {},
   "outputs": [],
   "source": [
    "for rr in df2[\"Arrival_Date\"]:\n",
    "    str=rr\n",
    "    str2=str.split('-')\n",
    "    month_column.append(Dict[int(str2[1])])"
   ]
  },
  {
   "cell_type": "code",
   "execution_count": 10,
   "id": "3a45bd9e-c343-4dd5-b48b-9db709e44e9d",
   "metadata": {},
   "outputs": [
    {
     "data": {
      "text/plain": [
       "10000"
      ]
     },
     "execution_count": 10,
     "metadata": {},
     "output_type": "execute_result"
    }
   ],
   "source": [
    "len(month_column)"
   ]
  },
  {
   "cell_type": "code",
   "execution_count": 11,
   "id": "c2d7532c-8caf-401a-9174-fe3dbe4c16b7",
   "metadata": {},
   "outputs": [],
   "source": [
    "df2[\"month_column\"]=month_column"
   ]
  },
  {
   "cell_type": "code",
   "execution_count": 12,
   "id": "0e1955bc-1e2d-4b9e-9d32-a66d96c524e7",
   "metadata": {},
   "outputs": [
    {
     "data": {
      "text/plain": [
       "0        January\n",
       "1        January\n",
       "2       February\n",
       "3       February\n",
       "4       February\n",
       "          ...   \n",
       "9995        July\n",
       "9996        July\n",
       "9997      August\n",
       "9998      August\n",
       "9999      August\n",
       "Name: month_column, Length: 10000, dtype: object"
      ]
     },
     "execution_count": 12,
     "metadata": {},
     "output_type": "execute_result"
    }
   ],
   "source": [
    "df2[\"month_column\"]"
   ]
  },
  {
   "cell_type": "code",
   "execution_count": 13,
   "id": "eaeed24a-2de3-466d-b703-71a3a5016041",
   "metadata": {},
   "outputs": [],
   "source": [
    "season_names=[]"
   ]
  },
  {
   "cell_type": "code",
   "execution_count": 14,
   "id": "3aaf8930-34a3-4a35-a9c0-923ee402a27c",
   "metadata": {},
   "outputs": [],
   "source": [
    "for tt in df2[\"month_column\"]:\n",
    "    if tt==\"January\" or tt==\"February\":\n",
    "        season_names.append(\"Winter\")\n",
    "    elif tt==\"March\" or tt==\"April\":\n",
    "        season_names.append(\"Sprint\")\n",
    "    elif tt==\"May\" or tt==\"June\":\n",
    "        season_names.append(\"Summer\")\n",
    "    elif tt==\"July\" or tt==\"August\":\n",
    "        season_names.append(\"Monsoon\")\n",
    "    elif tt==\"September\" or tt==\"October\":\n",
    "        season_names.append(\"Autumn\")\n",
    "    elif tt==\"November\" or tt==\"December\":\n",
    "        season_names.append(\" Pre Winter\")"
   ]
  },
  {
   "cell_type": "code",
   "execution_count": 15,
   "id": "6acc4b2a-921b-4d14-9c38-7cafc656bc06",
   "metadata": {},
   "outputs": [],
   "source": [
    "df2[\"season_names\"]=season_names"
   ]
  },
  {
   "cell_type": "code",
   "execution_count": 16,
   "id": "4560b876-dd4d-4b86-a857-44b21f38ab1f",
   "metadata": {},
   "outputs": [
    {
     "name": "stdout",
     "output_type": "stream",
     "text": [
      "4\n"
     ]
    }
   ],
   "source": [
    "import pandas as pd\n",
    "df=pd.Timestamp(\"2019-04-12\")\n",
    "print(df.dayofweek)"
   ]
  },
  {
   "cell_type": "code",
   "execution_count": 17,
   "id": "07ecb131-8e6c-4f4f-8f99-2884657fd14a",
   "metadata": {},
   "outputs": [],
   "source": [
    "day_of_week=[]"
   ]
  },
  {
   "cell_type": "code",
   "execution_count": 18,
   "id": "c0c85d7d-387d-475f-90a8-7d4911e0638c",
   "metadata": {},
   "outputs": [],
   "source": [
    "for rr in df2[\"Arrival_Date\"]:\n",
    "    str = rr\n",
    "    df=pd.Timestamp(rr)\n",
    "    day=df.dayofweek\n",
    "    day_of_week.append(day)"
   ]
  },
  {
   "cell_type": "code",
   "execution_count": 19,
   "id": "0eeac606-0634-48e2-9abb-a77a78e802a8",
   "metadata": {},
   "outputs": [],
   "source": [
    "df2[\"day\"]=day_of_week"
   ]
  },
  {
   "cell_type": "code",
   "execution_count": 20,
   "id": "e43a53d9-a670-4634-9a96-b65fe004be23",
   "metadata": {
    "scrolled": true
   },
   "outputs": [
    {
     "data": {
      "text/html": [
       "<div>\n",
       "<style scoped>\n",
       "    .dataframe tbody tr th:only-of-type {\n",
       "        vertical-align: middle;\n",
       "    }\n",
       "\n",
       "    .dataframe tbody tr th {\n",
       "        vertical-align: top;\n",
       "    }\n",
       "\n",
       "    .dataframe thead th {\n",
       "        text-align: right;\n",
       "    }\n",
       "</style>\n",
       "<table border=\"1\" class=\"dataframe\">\n",
       "  <thead>\n",
       "    <tr style=\"text-align: right;\">\n",
       "      <th></th>\n",
       "      <th>State</th>\n",
       "      <th>District</th>\n",
       "      <th>Market</th>\n",
       "      <th>Commodity</th>\n",
       "      <th>Variety</th>\n",
       "      <th>Grade</th>\n",
       "      <th>Arrival_Date</th>\n",
       "      <th>Min_Price</th>\n",
       "      <th>Max_Price</th>\n",
       "      <th>Modal_Price</th>\n",
       "      <th>Commodity_Code</th>\n",
       "      <th>month_column</th>\n",
       "      <th>season_names</th>\n",
       "      <th>day</th>\n",
       "    </tr>\n",
       "  </thead>\n",
       "  <tbody>\n",
       "    <tr>\n",
       "      <th>9995</th>\n",
       "      <td>Karnataka</td>\n",
       "      <td>Bangalore</td>\n",
       "      <td>Bangalore</td>\n",
       "      <td>Rice</td>\n",
       "      <td>Medium</td>\n",
       "      <td>FAQ</td>\n",
       "      <td>2011-07-20</td>\n",
       "      <td>2200</td>\n",
       "      <td>2400</td>\n",
       "      <td>2300</td>\n",
       "      <td>3</td>\n",
       "      <td>July</td>\n",
       "      <td>Monsoon</td>\n",
       "      <td>2</td>\n",
       "    </tr>\n",
       "    <tr>\n",
       "      <th>9996</th>\n",
       "      <td>Karnataka</td>\n",
       "      <td>Bangalore</td>\n",
       "      <td>Bangalore</td>\n",
       "      <td>Rice</td>\n",
       "      <td>Medium</td>\n",
       "      <td>FAQ</td>\n",
       "      <td>2011-07-25</td>\n",
       "      <td>2200</td>\n",
       "      <td>2400</td>\n",
       "      <td>2300</td>\n",
       "      <td>3</td>\n",
       "      <td>July</td>\n",
       "      <td>Monsoon</td>\n",
       "      <td>0</td>\n",
       "    </tr>\n",
       "    <tr>\n",
       "      <th>9997</th>\n",
       "      <td>Karnataka</td>\n",
       "      <td>Bangalore</td>\n",
       "      <td>Bangalore</td>\n",
       "      <td>Rice</td>\n",
       "      <td>Medium</td>\n",
       "      <td>FAQ</td>\n",
       "      <td>2011-08-09</td>\n",
       "      <td>2200</td>\n",
       "      <td>2600</td>\n",
       "      <td>2400</td>\n",
       "      <td>3</td>\n",
       "      <td>August</td>\n",
       "      <td>Monsoon</td>\n",
       "      <td>1</td>\n",
       "    </tr>\n",
       "    <tr>\n",
       "      <th>9998</th>\n",
       "      <td>Karnataka</td>\n",
       "      <td>Bangalore</td>\n",
       "      <td>Bangalore</td>\n",
       "      <td>Rice</td>\n",
       "      <td>Medium</td>\n",
       "      <td>FAQ</td>\n",
       "      <td>2011-08-10</td>\n",
       "      <td>2200</td>\n",
       "      <td>2600</td>\n",
       "      <td>2400</td>\n",
       "      <td>3</td>\n",
       "      <td>August</td>\n",
       "      <td>Monsoon</td>\n",
       "      <td>2</td>\n",
       "    </tr>\n",
       "    <tr>\n",
       "      <th>9999</th>\n",
       "      <td>Karnataka</td>\n",
       "      <td>Bangalore</td>\n",
       "      <td>Bangalore</td>\n",
       "      <td>Rice</td>\n",
       "      <td>Medium</td>\n",
       "      <td>FAQ</td>\n",
       "      <td>2011-08-16</td>\n",
       "      <td>2200</td>\n",
       "      <td>2600</td>\n",
       "      <td>2400</td>\n",
       "      <td>3</td>\n",
       "      <td>August</td>\n",
       "      <td>Monsoon</td>\n",
       "      <td>1</td>\n",
       "    </tr>\n",
       "  </tbody>\n",
       "</table>\n",
       "</div>"
      ],
      "text/plain": [
       "          State   District     Market Commodity Variety Grade Arrival_Date  \\\n",
       "9995  Karnataka  Bangalore  Bangalore      Rice  Medium   FAQ   2011-07-20   \n",
       "9996  Karnataka  Bangalore  Bangalore      Rice  Medium   FAQ   2011-07-25   \n",
       "9997  Karnataka  Bangalore  Bangalore      Rice  Medium   FAQ   2011-08-09   \n",
       "9998  Karnataka  Bangalore  Bangalore      Rice  Medium   FAQ   2011-08-10   \n",
       "9999  Karnataka  Bangalore  Bangalore      Rice  Medium   FAQ   2011-08-16   \n",
       "\n",
       "      Min_Price  Max_Price  Modal_Price  Commodity_Code month_column  \\\n",
       "9995       2200       2400         2300               3         July   \n",
       "9996       2200       2400         2300               3         July   \n",
       "9997       2200       2600         2400               3       August   \n",
       "9998       2200       2600         2400               3       August   \n",
       "9999       2200       2600         2400               3       August   \n",
       "\n",
       "     season_names  day  \n",
       "9995      Monsoon    2  \n",
       "9996      Monsoon    0  \n",
       "9997      Monsoon    1  \n",
       "9998      Monsoon    2  \n",
       "9999      Monsoon    1  "
      ]
     },
     "execution_count": 20,
     "metadata": {},
     "output_type": "execute_result"
    }
   ],
   "source": [
    "df2.tail()"
   ]
  },
  {
   "cell_type": "code",
   "execution_count": 21,
   "id": "dc67b068-ad73-4072-88e1-0dcab1e62de5",
   "metadata": {},
   "outputs": [],
   "source": [
    "# df2 = df2.drop('Grade', axis=1)\n"
   ]
  },
  {
   "cell_type": "code",
   "execution_count": 22,
   "id": "4a53f897-59fa-4159-b3fb-9e8f0330e827",
   "metadata": {},
   "outputs": [],
   "source": [
    "df2 = df2.drop('Arrival_Date', axis=1)\n"
   ]
  },
  {
   "cell_type": "code",
   "execution_count": 23,
   "id": "a6a64d2f-e6fb-42d4-8b56-49b30a0b4e02",
   "metadata": {},
   "outputs": [
    {
     "data": {
      "text/html": [
       "<div>\n",
       "<style scoped>\n",
       "    .dataframe tbody tr th:only-of-type {\n",
       "        vertical-align: middle;\n",
       "    }\n",
       "\n",
       "    .dataframe tbody tr th {\n",
       "        vertical-align: top;\n",
       "    }\n",
       "\n",
       "    .dataframe thead th {\n",
       "        text-align: right;\n",
       "    }\n",
       "</style>\n",
       "<table border=\"1\" class=\"dataframe\">\n",
       "  <thead>\n",
       "    <tr style=\"text-align: right;\">\n",
       "      <th></th>\n",
       "      <th>State</th>\n",
       "      <th>District</th>\n",
       "      <th>Market</th>\n",
       "      <th>Commodity</th>\n",
       "      <th>Variety</th>\n",
       "      <th>Grade</th>\n",
       "      <th>Min_Price</th>\n",
       "      <th>Max_Price</th>\n",
       "      <th>Modal_Price</th>\n",
       "      <th>Commodity_Code</th>\n",
       "      <th>month_column</th>\n",
       "      <th>season_names</th>\n",
       "      <th>day</th>\n",
       "    </tr>\n",
       "  </thead>\n",
       "  <tbody>\n",
       "    <tr>\n",
       "      <th>0</th>\n",
       "      <td>Karnataka</td>\n",
       "      <td>Bangalore</td>\n",
       "      <td>Bangalore</td>\n",
       "      <td>Green Peas</td>\n",
       "      <td>Green Peas</td>\n",
       "      <td>FAQ</td>\n",
       "      <td>1500</td>\n",
       "      <td>1600</td>\n",
       "      <td>1550</td>\n",
       "      <td>50</td>\n",
       "      <td>January</td>\n",
       "      <td>Winter</td>\n",
       "      <td>5</td>\n",
       "    </tr>\n",
       "    <tr>\n",
       "      <th>1</th>\n",
       "      <td>Karnataka</td>\n",
       "      <td>Bangalore</td>\n",
       "      <td>Bangalore</td>\n",
       "      <td>Green Peas</td>\n",
       "      <td>Green Peas</td>\n",
       "      <td>FAQ</td>\n",
       "      <td>1500</td>\n",
       "      <td>1600</td>\n",
       "      <td>1550</td>\n",
       "      <td>50</td>\n",
       "      <td>January</td>\n",
       "      <td>Winter</td>\n",
       "      <td>2</td>\n",
       "    </tr>\n",
       "    <tr>\n",
       "      <th>2</th>\n",
       "      <td>Karnataka</td>\n",
       "      <td>Bangalore</td>\n",
       "      <td>Bangalore</td>\n",
       "      <td>Green Peas</td>\n",
       "      <td>Green Peas</td>\n",
       "      <td>FAQ</td>\n",
       "      <td>1500</td>\n",
       "      <td>1600</td>\n",
       "      <td>1550</td>\n",
       "      <td>50</td>\n",
       "      <td>February</td>\n",
       "      <td>Winter</td>\n",
       "      <td>0</td>\n",
       "    </tr>\n",
       "    <tr>\n",
       "      <th>3</th>\n",
       "      <td>Karnataka</td>\n",
       "      <td>Bangalore</td>\n",
       "      <td>Bangalore</td>\n",
       "      <td>Green Peas</td>\n",
       "      <td>Green Peas</td>\n",
       "      <td>FAQ</td>\n",
       "      <td>1500</td>\n",
       "      <td>1600</td>\n",
       "      <td>1550</td>\n",
       "      <td>50</td>\n",
       "      <td>February</td>\n",
       "      <td>Winter</td>\n",
       "      <td>2</td>\n",
       "    </tr>\n",
       "    <tr>\n",
       "      <th>4</th>\n",
       "      <td>Karnataka</td>\n",
       "      <td>Bangalore</td>\n",
       "      <td>Bangalore</td>\n",
       "      <td>Green Peas</td>\n",
       "      <td>Green Peas</td>\n",
       "      <td>FAQ</td>\n",
       "      <td>1500</td>\n",
       "      <td>1600</td>\n",
       "      <td>1550</td>\n",
       "      <td>50</td>\n",
       "      <td>February</td>\n",
       "      <td>Winter</td>\n",
       "      <td>1</td>\n",
       "    </tr>\n",
       "  </tbody>\n",
       "</table>\n",
       "</div>"
      ],
      "text/plain": [
       "       State   District     Market   Commodity     Variety Grade  Min_Price  \\\n",
       "0  Karnataka  Bangalore  Bangalore  Green Peas  Green Peas   FAQ       1500   \n",
       "1  Karnataka  Bangalore  Bangalore  Green Peas  Green Peas   FAQ       1500   \n",
       "2  Karnataka  Bangalore  Bangalore  Green Peas  Green Peas   FAQ       1500   \n",
       "3  Karnataka  Bangalore  Bangalore  Green Peas  Green Peas   FAQ       1500   \n",
       "4  Karnataka  Bangalore  Bangalore  Green Peas  Green Peas   FAQ       1500   \n",
       "\n",
       "   Max_Price  Modal_Price  Commodity_Code month_column season_names  day  \n",
       "0       1600         1550              50      January       Winter    5  \n",
       "1       1600         1550              50      January       Winter    2  \n",
       "2       1600         1550              50     February       Winter    0  \n",
       "3       1600         1550              50     February       Winter    2  \n",
       "4       1600         1550              50     February       Winter    1  "
      ]
     },
     "execution_count": 23,
     "metadata": {},
     "output_type": "execute_result"
    }
   ],
   "source": [
    "df2.head()"
   ]
  },
  {
   "cell_type": "code",
   "execution_count": 24,
   "id": "8d0de713-5e42-42b4-8b90-0534baa79369",
   "metadata": {},
   "outputs": [
    {
     "data": {
      "text/plain": [
       "1393"
      ]
     },
     "execution_count": 24,
     "metadata": {},
     "output_type": "execute_result"
    }
   ],
   "source": [
    "df2.duplicated().sum()"
   ]
  },
  {
   "cell_type": "code",
   "execution_count": 25,
   "id": "5a6b10ce-b9dc-4650-8c3f-a2a2dac15bf1",
   "metadata": {},
   "outputs": [],
   "source": [
    "# df2.drop_duplicates(inplace=True)\n"
   ]
  },
  {
   "cell_type": "code",
   "execution_count": 26,
   "id": "1b59c0a0-10cf-4f4d-a33c-c2a292aa7dd6",
   "metadata": {},
   "outputs": [
    {
     "data": {
      "text/plain": [
       "1393"
      ]
     },
     "execution_count": 26,
     "metadata": {},
     "output_type": "execute_result"
    }
   ],
   "source": [
    "df2.duplicated().sum()\n"
   ]
  },
  {
   "cell_type": "code",
   "execution_count": 27,
   "id": "673d513b-34bc-4d5d-ac87-3bf24d56548d",
   "metadata": {},
   "outputs": [],
   "source": [
    "Q1 = np.percentile(df2['Modal_Price'],25,interpolation = \"midpoint\")\n",
    "Q3 = np.percentile(df2[\"Modal_Price\"],75,interpolation =\"midpoint\")\n",
    "IQR=Q3-Q1"
   ]
  },
  {
   "cell_type": "code",
   "execution_count": 28,
   "id": "99763641-6926-4b03-8af9-f44c6f4240fc",
   "metadata": {},
   "outputs": [],
   "source": [
    "# #upperbound\n",
    "# upper=np.where(df2[\"Modal_Price\"] >= (Q3+1.5*IQR))\n",
    "# #lower bound\n",
    "# lower=np.where(df2[\"Modal_Price\"] <= (Q1-1.5*IQR))\n"
   ]
  },
  {
   "cell_type": "code",
   "execution_count": 30,
   "id": "49ce5dae-ca97-45cf-8633-a7f216abacf5",
   "metadata": {},
   "outputs": [],
   "source": [
    "# print(upper[0],lower[0])"
   ]
  },
  {
   "cell_type": "code",
   "execution_count": 42,
   "id": "4d000b0d-e6a8-44c6-95b4-f7b6167c6873",
   "metadata": {},
   "outputs": [],
   "source": [
    "# sns.boxplot(df2[\"Modal_Price\"])"
   ]
  },
  {
   "cell_type": "code",
   "execution_count": 32,
   "id": "2b1ecf4e-a6ff-4d9e-9c0c-0059f36679d5",
   "metadata": {},
   "outputs": [],
   "source": [
    "df2.drop_duplicates(inplace=True)"
   ]
  },
  {
   "cell_type": "code",
   "execution_count": 33,
   "id": "cd8a8f53-4c60-4b99-9b2b-cb4e3404b0bb",
   "metadata": {},
   "outputs": [],
   "source": [
    "df2 = df2.drop('Grade', axis=1)"
   ]
  },
  {
   "cell_type": "code",
   "execution_count": null,
   "id": "9bcc60d0-3c7a-48e6-b59f-e290096fbdaa",
   "metadata": {},
   "outputs": [],
   "source": [
    "# col = ['State','District','Market','Commodity','Variety','Min_Price','Max_Price','Modal_Price','Commodity_Code','month_column','season_names','day']\n"
   ]
  },
  {
   "cell_type": "code",
   "execution_count": 34,
   "id": "ca6ff882-e552-499f-9cce-089f34cd0bb9",
   "metadata": {},
   "outputs": [],
   "source": [
    "features=df2[['State','District', 'Market', 'Commodity', 'Variety','month_column', 'season_names', 'day']]\n",
    "labels=df2[['Modal_Price']]"
   ]
  },
  {
   "cell_type": "code",
   "execution_count": 35,
   "id": "f4cfb8a6-4496-4e6e-9c5f-243cfeeebcc9",
   "metadata": {},
   "outputs": [],
   "source": [
    "from sklearn.model_selection import train_test_split\n",
    "X_train, X_test, y_train, y_test = train_test_split(features,labels, train_size=0.8, random_state=42, shuffle=True)"
   ]
  },
  {
   "cell_type": "code",
   "execution_count": 36,
   "id": "c3ece975-25a0-435a-9062-2f5276f3a9e4",
   "metadata": {},
   "outputs": [
    {
     "data": {
      "text/html": [
       "<div>\n",
       "<style scoped>\n",
       "    .dataframe tbody tr th:only-of-type {\n",
       "        vertical-align: middle;\n",
       "    }\n",
       "\n",
       "    .dataframe tbody tr th {\n",
       "        vertical-align: top;\n",
       "    }\n",
       "\n",
       "    .dataframe thead th {\n",
       "        text-align: right;\n",
       "    }\n",
       "</style>\n",
       "<table border=\"1\" class=\"dataframe\">\n",
       "  <thead>\n",
       "    <tr style=\"text-align: right;\">\n",
       "      <th></th>\n",
       "      <th>State</th>\n",
       "      <th>District</th>\n",
       "      <th>Market</th>\n",
       "      <th>Commodity</th>\n",
       "      <th>Variety</th>\n",
       "      <th>month_column</th>\n",
       "      <th>season_names</th>\n",
       "      <th>day</th>\n",
       "    </tr>\n",
       "  </thead>\n",
       "  <tbody>\n",
       "    <tr>\n",
       "      <th>7979</th>\n",
       "      <td>Karnataka</td>\n",
       "      <td>Bangalore</td>\n",
       "      <td>Bangalore</td>\n",
       "      <td>Jowar(Sorghum)</td>\n",
       "      <td>Jowar ( White)</td>\n",
       "      <td>March</td>\n",
       "      <td>Sprint</td>\n",
       "      <td>1</td>\n",
       "    </tr>\n",
       "    <tr>\n",
       "      <th>7377</th>\n",
       "      <td>Karnataka</td>\n",
       "      <td>Bangalore</td>\n",
       "      <td>Bangalore</td>\n",
       "      <td>Ragi (Finger Millet)</td>\n",
       "      <td>Fine</td>\n",
       "      <td>May</td>\n",
       "      <td>Summer</td>\n",
       "      <td>3</td>\n",
       "    </tr>\n",
       "    <tr>\n",
       "      <th>245</th>\n",
       "      <td>Karnataka</td>\n",
       "      <td>Bangalore</td>\n",
       "      <td>Bangalore</td>\n",
       "      <td>Bengal Gram(Gram)(Whole)</td>\n",
       "      <td>Average (Whole)</td>\n",
       "      <td>November</td>\n",
       "      <td>Pre Winter</td>\n",
       "      <td>1</td>\n",
       "    </tr>\n",
       "    <tr>\n",
       "      <th>9933</th>\n",
       "      <td>Karnataka</td>\n",
       "      <td>Bangalore</td>\n",
       "      <td>Bangalore</td>\n",
       "      <td>Turmeric</td>\n",
       "      <td>Turmeric Stick</td>\n",
       "      <td>October</td>\n",
       "      <td>Autumn</td>\n",
       "      <td>4</td>\n",
       "    </tr>\n",
       "    <tr>\n",
       "      <th>8561</th>\n",
       "      <td>Karnataka</td>\n",
       "      <td>Bangalore</td>\n",
       "      <td>Bangalore</td>\n",
       "      <td>Dry Chillies</td>\n",
       "      <td>Mankattu</td>\n",
       "      <td>October</td>\n",
       "      <td>Autumn</td>\n",
       "      <td>2</td>\n",
       "    </tr>\n",
       "    <tr>\n",
       "      <th>...</th>\n",
       "      <td>...</td>\n",
       "      <td>...</td>\n",
       "      <td>...</td>\n",
       "      <td>...</td>\n",
       "      <td>...</td>\n",
       "      <td>...</td>\n",
       "      <td>...</td>\n",
       "      <td>...</td>\n",
       "    </tr>\n",
       "    <tr>\n",
       "      <th>6790</th>\n",
       "      <td>Karnataka</td>\n",
       "      <td>Bangalore</td>\n",
       "      <td>Bangalore</td>\n",
       "      <td>Avare Dal</td>\n",
       "      <td>Avare (Whole)</td>\n",
       "      <td>September</td>\n",
       "      <td>Autumn</td>\n",
       "      <td>0</td>\n",
       "    </tr>\n",
       "    <tr>\n",
       "      <th>6131</th>\n",
       "      <td>Karnataka</td>\n",
       "      <td>Bangalore</td>\n",
       "      <td>Bangalore</td>\n",
       "      <td>Coconut</td>\n",
       "      <td>Coconut</td>\n",
       "      <td>May</td>\n",
       "      <td>Summer</td>\n",
       "      <td>2</td>\n",
       "    </tr>\n",
       "    <tr>\n",
       "      <th>6374</th>\n",
       "      <td>Karnataka</td>\n",
       "      <td>Bangalore</td>\n",
       "      <td>Bangalore</td>\n",
       "      <td>Dry Chillies</td>\n",
       "      <td>Byadgi</td>\n",
       "      <td>March</td>\n",
       "      <td>Sprint</td>\n",
       "      <td>4</td>\n",
       "    </tr>\n",
       "    <tr>\n",
       "      <th>984</th>\n",
       "      <td>Karnataka</td>\n",
       "      <td>Bangalore</td>\n",
       "      <td>Bangalore</td>\n",
       "      <td>Garlic</td>\n",
       "      <td>Other</td>\n",
       "      <td>November</td>\n",
       "      <td>Pre Winter</td>\n",
       "      <td>3</td>\n",
       "    </tr>\n",
       "    <tr>\n",
       "      <th>8576</th>\n",
       "      <td>Karnataka</td>\n",
       "      <td>Bangalore</td>\n",
       "      <td>Bangalore</td>\n",
       "      <td>Dry Chillies</td>\n",
       "      <td>Byadgi</td>\n",
       "      <td>January</td>\n",
       "      <td>Winter</td>\n",
       "      <td>5</td>\n",
       "    </tr>\n",
       "  </tbody>\n",
       "</table>\n",
       "<p>6885 rows × 8 columns</p>\n",
       "</div>"
      ],
      "text/plain": [
       "          State   District     Market                 Commodity  \\\n",
       "7979  Karnataka  Bangalore  Bangalore            Jowar(Sorghum)   \n",
       "7377  Karnataka  Bangalore  Bangalore      Ragi (Finger Millet)   \n",
       "245   Karnataka  Bangalore  Bangalore  Bengal Gram(Gram)(Whole)   \n",
       "9933  Karnataka  Bangalore  Bangalore                  Turmeric   \n",
       "8561  Karnataka  Bangalore  Bangalore              Dry Chillies   \n",
       "...         ...        ...        ...                       ...   \n",
       "6790  Karnataka  Bangalore  Bangalore                 Avare Dal   \n",
       "6131  Karnataka  Bangalore  Bangalore                   Coconut   \n",
       "6374  Karnataka  Bangalore  Bangalore              Dry Chillies   \n",
       "984   Karnataka  Bangalore  Bangalore                    Garlic   \n",
       "8576  Karnataka  Bangalore  Bangalore              Dry Chillies   \n",
       "\n",
       "              Variety month_column season_names  day  \n",
       "7979   Jowar ( White)        March       Sprint    1  \n",
       "7377             Fine          May       Summer    3  \n",
       "245   Average (Whole)     November   Pre Winter    1  \n",
       "9933   Turmeric Stick      October       Autumn    4  \n",
       "8561         Mankattu      October       Autumn    2  \n",
       "...               ...          ...          ...  ...  \n",
       "6790    Avare (Whole)    September       Autumn    0  \n",
       "6131          Coconut          May       Summer    2  \n",
       "6374           Byadgi        March       Sprint    4  \n",
       "984             Other     November   Pre Winter    3  \n",
       "8576           Byadgi      January       Winter    5  \n",
       "\n",
       "[6885 rows x 8 columns]"
      ]
     },
     "execution_count": 36,
     "metadata": {},
     "output_type": "execute_result"
    }
   ],
   "source": [
    "X_train"
   ]
  },
  {
   "cell_type": "markdown",
   "id": "3d8bda2a-2341-449b-9fe8-a9369f08ef53",
   "metadata": {},
   "source": [
    "# Converting Categorical to Numerical and Scaling the values"
   ]
  },
  {
   "cell_type": "code",
   "execution_count": 37,
   "id": "892f804b-954a-4d9f-bbf0-f34f2239eefc",
   "metadata": {},
   "outputs": [],
   "source": [
    "from sklearn.preprocessing import OneHotEncoder\n",
    "from sklearn.compose import ColumnTransformer\n",
    "from sklearn.preprocessing import StandardScaler\n",
    "ohe = OneHotEncoder(drop='first')\n",
    "scale = StandardScaler()\n",
    "\n",
    "preprocesser = ColumnTransformer(\n",
    "        transformers = [\n",
    "            ('StandardScale', scale, [7]),\n",
    "            ('OHE', ohe, [0,1,2,3,4,5,6]),\n",
    "        ],\n",
    "        remainder='passthrough'\n",
    ")"
   ]
  },
  {
   "cell_type": "code",
   "execution_count": 38,
   "id": "3d16947c-e92d-471e-90f4-6ca4b65bb8e3",
   "metadata": {},
   "outputs": [],
   "source": [
    "X_train_dummy = preprocesser.fit_transform(X_train)\n",
    "X_test_dummy = preprocesser.transform(X_test)\n"
   ]
  },
  {
   "cell_type": "code",
   "execution_count": 39,
   "id": "c475623c-043a-42be-9815-4c2e56073ebb",
   "metadata": {},
   "outputs": [
    {
     "name": "stdout",
     "output_type": "stream",
     "text": [
      "lr : mae : 824.353056329456 score : 0.860876329671873\n",
      "lss : mae : 834.6231851111927 score : 0.860010077990562\n",
      "Rid : mae : 827.309068130727 score : 0.860457925730115\n",
      "Dtr : mae : 1039.243563685637 score : 0.7652416120990833\n"
     ]
    },
    {
     "name": "stderr",
     "output_type": "stream",
     "text": [
      "C:\\Users\\steav\\AppData\\Local\\Temp\\ipykernel_15692\\101204319.py:18: DataConversionWarning: A column-vector y was passed when a 1d array was expected. Please change the shape of y to (n_samples,), for example using ravel().\n",
      "  md.fit(X_train_dummy,y_train)\n"
     ]
    },
    {
     "name": "stdout",
     "output_type": "stream",
     "text": [
      "Rfr : mae : 927.9607400043659 score : 0.8240175832205043\n"
     ]
    }
   ],
   "source": [
    "from sklearn.linear_model import LinearRegression,Lasso,Ridge\n",
    "from sklearn.neighbors import KNeighborsRegressor\n",
    "from sklearn.tree import DecisionTreeRegressor\n",
    "from sklearn.ensemble import RandomForestRegressor\n",
    "\n",
    "from sklearn.metrics import mean_absolute_error,r2_score\n",
    "\n",
    "\n",
    "models = {\n",
    "    'lr':LinearRegression(),\n",
    "    'lss':Lasso(),\n",
    "    'Rid':Ridge(),\n",
    "    'Dtr':DecisionTreeRegressor(),\n",
    "    'Rfr':RandomForestRegressor()\n",
    "\n",
    "}\n",
    "for name, md in models.items():\n",
    "    md.fit(X_train_dummy,y_train)\n",
    "    y_pred = md.predict(X_test_dummy)\n",
    "    \n",
    "    print(f\"{name} : mae : {mean_absolute_error(y_test,y_pred)} score : {r2_score(y_test,y_pred)}\")"
   ]
  },
  {
   "cell_type": "code",
   "execution_count": 40,
   "id": "0beb9504-5f67-46ee-93d9-4c79fcee345c",
   "metadata": {},
   "outputs": [
    {
     "data": {
      "text/plain": [
       "array([[1555.5826657 ],\n",
       "       [4444.70497024],\n",
       "       [2728.02237424],\n",
       "       ...,\n",
       "       [1863.98578971],\n",
       "       [4773.29853347],\n",
       "       [3709.48166949]])"
      ]
     },
     "execution_count": 40,
     "metadata": {},
     "output_type": "execute_result"
    }
   ],
   "source": [
    "lr=LinearRegression()\n",
    "lr.fit(X_train_dummy,y_train)\n",
    "lr.predict(X_test_dummy)\n"
   ]
  },
  {
   "cell_type": "code",
   "execution_count": 41,
   "id": "c5442b69-64e1-4aac-ae8e-12bb2f07487f",
   "metadata": {},
   "outputs": [
    {
     "name": "stderr",
     "output_type": "stream",
     "text": [
      "C:\\Users\\steav\\anaconda3\\Lib\\site-packages\\sklearn\\base.py:439: UserWarning: X does not have valid feature names, but StandardScaler was fitted with feature names\n",
      "  warnings.warn(\n",
      "C:\\Users\\steav\\anaconda3\\Lib\\site-packages\\sklearn\\base.py:439: UserWarning: X does not have valid feature names, but OneHotEncoder was fitted with feature names\n",
      "  warnings.warn(\n"
     ]
    }
   ],
   "source": [
    "def prediction(State,District,Market,Commodity,Variety,month_column,season_names,day):\n",
    "    # Create an array of the input features\n",
    "    features = np.array([[State,District,Market,Commodity,Variety,month_column,season_names,day]], dtype=object)\n",
    "\n",
    "    # Transform the features using the preprocessor\n",
    "    transformed_features = preprocesser.transform(features)\n",
    "\n",
    "    # Make the prediction\n",
    "    predicted_price = lr.predict(transformed_features).reshape(1, -1)\n",
    "\n",
    "    return predicted_price[0]\n",
    "\n",
    "State = 'Karnataka'\n",
    "District ='Bangalore'\n",
    "Market = 'Bangalore'\n",
    "Commodity='Green Peas'                   \n",
    "Variety = 'Green Peas'\n",
    "month_column = 'January'\n",
    "season_names='Winter'\n",
    "day=5\n",
    "\n",
    "result = prediction(State,District,Market,Commodity,Variety,month_column,season_names,day)"
   ]
  },
  {
   "cell_type": "code",
   "execution_count": null,
   "id": "be029bcc-4f62-4c18-a8fa-7a4fef145748",
   "metadata": {},
   "outputs": [],
   "source": [
    "result"
   ]
  },
  {
   "cell_type": "code",
   "execution_count": null,
   "id": "1e5e9ae5-9039-4400-a30f-6ba6ac2782f3",
   "metadata": {},
   "outputs": [],
   "source": [
    "import pickle\n",
    "pickle.dump(lr,open('lr.pkl','wb'))\n",
    "pickle.dump(preprocesser,open('preprocessor.pkl','wb'))"
   ]
  },
  {
   "cell_type": "code",
   "execution_count": null,
   "id": "7c55ec20-1906-4dde-9c81-5a7dc927d708",
   "metadata": {},
   "outputs": [],
   "source": []
  }
 ],
 "metadata": {
  "kernelspec": {
   "display_name": "Python 3 (ipykernel)",
   "language": "python",
   "name": "python3"
  },
  "language_info": {
   "codemirror_mode": {
    "name": "ipython",
    "version": 3
   },
   "file_extension": ".py",
   "mimetype": "text/x-python",
   "name": "python",
   "nbconvert_exporter": "python",
   "pygments_lexer": "ipython3",
   "version": "3.11.7"
  }
 },
 "nbformat": 4,
 "nbformat_minor": 5
}
